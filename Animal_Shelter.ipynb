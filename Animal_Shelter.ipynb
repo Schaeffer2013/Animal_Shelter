{
 "cells": [
  {
   "cell_type": "code",
   "execution_count": 3,
   "id": "0d8e25c1-858a-48c2-8302-39d457ea7d19",
   "metadata": {
    "tags": []
   },
   "outputs": [],
   "source": [
    "import pandas as pd\n",
    "intakes = pd.read_csv('aac_intakes.csv')\n",
    "outcomes = pd.read_csv('aac_outcomes.csv')\n",
    "combined = pd.read_csv('aac_intakes_outcomes.csv')"
   ]
  },
  {
   "cell_type": "code",
   "execution_count": 49,
   "id": "f1f08402-0f5e-48cc-8bb5-238e7e8c9ce1",
   "metadata": {
    "tags": []
   },
   "outputs": [
    {
     "data": {
      "text/html": [
       "<div>\n",
       "<style scoped>\n",
       "    .dataframe tbody tr th:only-of-type {\n",
       "        vertical-align: middle;\n",
       "    }\n",
       "\n",
       "    .dataframe tbody tr th {\n",
       "        vertical-align: top;\n",
       "    }\n",
       "\n",
       "    .dataframe thead th {\n",
       "        text-align: right;\n",
       "    }\n",
       "</style>\n",
       "<table border=\"1\" class=\"dataframe\">\n",
       "  <thead>\n",
       "    <tr style=\"text-align: right;\">\n",
       "      <th></th>\n",
       "      <th>age_upon_intake</th>\n",
       "      <th>animal_id</th>\n",
       "      <th>animal_type</th>\n",
       "      <th>breed</th>\n",
       "      <th>color</th>\n",
       "      <th>datetime</th>\n",
       "      <th>datetime2</th>\n",
       "      <th>found_location</th>\n",
       "      <th>intake_condition</th>\n",
       "      <th>intake_type</th>\n",
       "      <th>name</th>\n",
       "      <th>sex_upon_intake</th>\n",
       "    </tr>\n",
       "  </thead>\n",
       "  <tbody>\n",
       "    <tr>\n",
       "      <th>0</th>\n",
       "      <td>8 years</td>\n",
       "      <td>A706918</td>\n",
       "      <td>Dog</td>\n",
       "      <td>English Springer Spaniel</td>\n",
       "      <td>White/Liver</td>\n",
       "      <td>2015-07-05T12:59:00.000</td>\n",
       "      <td>2015-07-05T12:59:00.000</td>\n",
       "      <td>9409 Bluegrass Dr in Austin (TX)</td>\n",
       "      <td>Normal</td>\n",
       "      <td>Stray</td>\n",
       "      <td>Belle</td>\n",
       "      <td>Spayed Female</td>\n",
       "    </tr>\n",
       "    <tr>\n",
       "      <th>1</th>\n",
       "      <td>11 months</td>\n",
       "      <td>A724273</td>\n",
       "      <td>Dog</td>\n",
       "      <td>Basenji Mix</td>\n",
       "      <td>Sable/White</td>\n",
       "      <td>2016-04-14T18:43:00.000</td>\n",
       "      <td>2016-04-14T18:43:00.000</td>\n",
       "      <td>2818 Palomino Trail in Austin (TX)</td>\n",
       "      <td>Normal</td>\n",
       "      <td>Stray</td>\n",
       "      <td>Runster</td>\n",
       "      <td>Intact Male</td>\n",
       "    </tr>\n",
       "    <tr>\n",
       "      <th>2</th>\n",
       "      <td>4 weeks</td>\n",
       "      <td>A665644</td>\n",
       "      <td>Cat</td>\n",
       "      <td>Domestic Shorthair Mix</td>\n",
       "      <td>Calico</td>\n",
       "      <td>2013-10-21T07:59:00.000</td>\n",
       "      <td>2013-10-21T07:59:00.000</td>\n",
       "      <td>Austin (TX)</td>\n",
       "      <td>Sick</td>\n",
       "      <td>Stray</td>\n",
       "      <td>NaN</td>\n",
       "      <td>Intact Female</td>\n",
       "    </tr>\n",
       "    <tr>\n",
       "      <th>3</th>\n",
       "      <td>4 years</td>\n",
       "      <td>A682524</td>\n",
       "      <td>Dog</td>\n",
       "      <td>Doberman Pinsch/Australian Cattle Dog</td>\n",
       "      <td>Tan/Gray</td>\n",
       "      <td>2014-06-29T10:38:00.000</td>\n",
       "      <td>2014-06-29T10:38:00.000</td>\n",
       "      <td>800 Grove Blvd in Austin (TX)</td>\n",
       "      <td>Normal</td>\n",
       "      <td>Stray</td>\n",
       "      <td>Rio</td>\n",
       "      <td>Neutered Male</td>\n",
       "    </tr>\n",
       "    <tr>\n",
       "      <th>4</th>\n",
       "      <td>2 years</td>\n",
       "      <td>A743852</td>\n",
       "      <td>Dog</td>\n",
       "      <td>Labrador Retriever Mix</td>\n",
       "      <td>Chocolate</td>\n",
       "      <td>2017-02-18T12:46:00.000</td>\n",
       "      <td>2017-02-18T12:46:00.000</td>\n",
       "      <td>Austin (TX)</td>\n",
       "      <td>Normal</td>\n",
       "      <td>Owner Surrender</td>\n",
       "      <td>Odin</td>\n",
       "      <td>Neutered Male</td>\n",
       "    </tr>\n",
       "  </tbody>\n",
       "</table>\n",
       "</div>"
      ],
      "text/plain": [
       "  age_upon_intake animal_id animal_type  \\\n",
       "0         8 years   A706918         Dog   \n",
       "1       11 months   A724273         Dog   \n",
       "2         4 weeks   A665644         Cat   \n",
       "3         4 years   A682524         Dog   \n",
       "4         2 years   A743852         Dog   \n",
       "\n",
       "                                   breed        color  \\\n",
       "0               English Springer Spaniel  White/Liver   \n",
       "1                            Basenji Mix  Sable/White   \n",
       "2                 Domestic Shorthair Mix       Calico   \n",
       "3  Doberman Pinsch/Australian Cattle Dog     Tan/Gray   \n",
       "4                 Labrador Retriever Mix    Chocolate   \n",
       "\n",
       "                  datetime                datetime2  \\\n",
       "0  2015-07-05T12:59:00.000  2015-07-05T12:59:00.000   \n",
       "1  2016-04-14T18:43:00.000  2016-04-14T18:43:00.000   \n",
       "2  2013-10-21T07:59:00.000  2013-10-21T07:59:00.000   \n",
       "3  2014-06-29T10:38:00.000  2014-06-29T10:38:00.000   \n",
       "4  2017-02-18T12:46:00.000  2017-02-18T12:46:00.000   \n",
       "\n",
       "                       found_location intake_condition      intake_type  \\\n",
       "0    9409 Bluegrass Dr in Austin (TX)           Normal            Stray   \n",
       "1  2818 Palomino Trail in Austin (TX)           Normal            Stray   \n",
       "2                         Austin (TX)             Sick            Stray   \n",
       "3       800 Grove Blvd in Austin (TX)           Normal            Stray   \n",
       "4                         Austin (TX)           Normal  Owner Surrender   \n",
       "\n",
       "      name sex_upon_intake  \n",
       "0    Belle   Spayed Female  \n",
       "1  Runster     Intact Male  \n",
       "2      NaN   Intact Female  \n",
       "3      Rio   Neutered Male  \n",
       "4     Odin   Neutered Male  "
      ]
     },
     "execution_count": 49,
     "metadata": {},
     "output_type": "execute_result"
    }
   ],
   "source": [
    "intakes.head(5)"
   ]
  },
  {
   "cell_type": "code",
   "execution_count": 28,
   "id": "e9c6b699-2a72-4e72-92ee-e46b4980e135",
   "metadata": {
    "tags": []
   },
   "outputs": [
    {
     "data": {
      "text/html": [
       "<div>\n",
       "<style scoped>\n",
       "    .dataframe tbody tr th:only-of-type {\n",
       "        vertical-align: middle;\n",
       "    }\n",
       "\n",
       "    .dataframe tbody tr th {\n",
       "        vertical-align: top;\n",
       "    }\n",
       "\n",
       "    .dataframe thead th {\n",
       "        text-align: right;\n",
       "    }\n",
       "</style>\n",
       "<table border=\"1\" class=\"dataframe\">\n",
       "  <thead>\n",
       "    <tr style=\"text-align: right;\">\n",
       "      <th></th>\n",
       "      <th>age_upon_outcome</th>\n",
       "      <th>animal_id</th>\n",
       "      <th>animal_type</th>\n",
       "      <th>breed</th>\n",
       "      <th>color</th>\n",
       "      <th>date_of_birth</th>\n",
       "      <th>datetime</th>\n",
       "      <th>monthyear</th>\n",
       "      <th>name</th>\n",
       "      <th>outcome_subtype</th>\n",
       "      <th>outcome_type</th>\n",
       "      <th>sex_upon_outcome</th>\n",
       "    </tr>\n",
       "  </thead>\n",
       "  <tbody>\n",
       "    <tr>\n",
       "      <th>0</th>\n",
       "      <td>2 weeks</td>\n",
       "      <td>A684346</td>\n",
       "      <td>Cat</td>\n",
       "      <td>Domestic Shorthair Mix</td>\n",
       "      <td>Orange Tabby</td>\n",
       "      <td>2014-07-07T00:00:00</td>\n",
       "      <td>2014-07-22T16:04:00</td>\n",
       "      <td>2014-07-22T16:04:00</td>\n",
       "      <td>NaN</td>\n",
       "      <td>Partner</td>\n",
       "      <td>Transfer</td>\n",
       "      <td>Intact Male</td>\n",
       "    </tr>\n",
       "    <tr>\n",
       "      <th>1</th>\n",
       "      <td>1 year</td>\n",
       "      <td>A666430</td>\n",
       "      <td>Dog</td>\n",
       "      <td>Beagle Mix</td>\n",
       "      <td>White/Brown</td>\n",
       "      <td>2012-11-06T00:00:00</td>\n",
       "      <td>2013-11-07T11:47:00</td>\n",
       "      <td>2013-11-07T11:47:00</td>\n",
       "      <td>Lucy</td>\n",
       "      <td>Partner</td>\n",
       "      <td>Transfer</td>\n",
       "      <td>Spayed Female</td>\n",
       "    </tr>\n",
       "    <tr>\n",
       "      <th>2</th>\n",
       "      <td>1 year</td>\n",
       "      <td>A675708</td>\n",
       "      <td>Dog</td>\n",
       "      <td>Pit Bull</td>\n",
       "      <td>Blue/White</td>\n",
       "      <td>2013-03-31T00:00:00</td>\n",
       "      <td>2014-06-03T14:20:00</td>\n",
       "      <td>2014-06-03T14:20:00</td>\n",
       "      <td>*Johnny</td>\n",
       "      <td>NaN</td>\n",
       "      <td>Adoption</td>\n",
       "      <td>Neutered Male</td>\n",
       "    </tr>\n",
       "    <tr>\n",
       "      <th>3</th>\n",
       "      <td>9 years</td>\n",
       "      <td>A680386</td>\n",
       "      <td>Dog</td>\n",
       "      <td>Miniature Schnauzer Mix</td>\n",
       "      <td>White</td>\n",
       "      <td>2005-06-02T00:00:00</td>\n",
       "      <td>2014-06-15T15:50:00</td>\n",
       "      <td>2014-06-15T15:50:00</td>\n",
       "      <td>Monday</td>\n",
       "      <td>Partner</td>\n",
       "      <td>Transfer</td>\n",
       "      <td>Neutered Male</td>\n",
       "    </tr>\n",
       "    <tr>\n",
       "      <th>4</th>\n",
       "      <td>5 months</td>\n",
       "      <td>A683115</td>\n",
       "      <td>Other</td>\n",
       "      <td>Bat Mix</td>\n",
       "      <td>Brown</td>\n",
       "      <td>2014-01-07T00:00:00</td>\n",
       "      <td>2014-07-07T14:04:00</td>\n",
       "      <td>2014-07-07T14:04:00</td>\n",
       "      <td>NaN</td>\n",
       "      <td>Rabies Risk</td>\n",
       "      <td>Euthanasia</td>\n",
       "      <td>Unknown</td>\n",
       "    </tr>\n",
       "  </tbody>\n",
       "</table>\n",
       "</div>"
      ],
      "text/plain": [
       "  age_upon_outcome animal_id animal_type                    breed  \\\n",
       "0          2 weeks   A684346         Cat   Domestic Shorthair Mix   \n",
       "1           1 year   A666430         Dog               Beagle Mix   \n",
       "2           1 year   A675708         Dog                 Pit Bull   \n",
       "3          9 years   A680386         Dog  Miniature Schnauzer Mix   \n",
       "4         5 months   A683115       Other                  Bat Mix   \n",
       "\n",
       "          color        date_of_birth             datetime  \\\n",
       "0  Orange Tabby  2014-07-07T00:00:00  2014-07-22T16:04:00   \n",
       "1   White/Brown  2012-11-06T00:00:00  2013-11-07T11:47:00   \n",
       "2    Blue/White  2013-03-31T00:00:00  2014-06-03T14:20:00   \n",
       "3         White  2005-06-02T00:00:00  2014-06-15T15:50:00   \n",
       "4         Brown  2014-01-07T00:00:00  2014-07-07T14:04:00   \n",
       "\n",
       "             monthyear     name outcome_subtype outcome_type sex_upon_outcome  \n",
       "0  2014-07-22T16:04:00      NaN         Partner     Transfer      Intact Male  \n",
       "1  2013-11-07T11:47:00     Lucy         Partner     Transfer    Spayed Female  \n",
       "2  2014-06-03T14:20:00  *Johnny             NaN     Adoption    Neutered Male  \n",
       "3  2014-06-15T15:50:00   Monday         Partner     Transfer    Neutered Male  \n",
       "4  2014-07-07T14:04:00      NaN     Rabies Risk   Euthanasia          Unknown  "
      ]
     },
     "execution_count": 28,
     "metadata": {},
     "output_type": "execute_result"
    }
   ],
   "source": [
    "outcomes.head(5)"
   ]
  },
  {
   "cell_type": "code",
   "execution_count": 45,
   "id": "fbaa65d3-215f-4160-adb0-7dd232d0a23d",
   "metadata": {
    "tags": []
   },
   "outputs": [
    {
     "data": {
      "text/html": [
       "<div>\n",
       "<style scoped>\n",
       "    .dataframe tbody tr th:only-of-type {\n",
       "        vertical-align: middle;\n",
       "    }\n",
       "\n",
       "    .dataframe tbody tr th {\n",
       "        vertical-align: top;\n",
       "    }\n",
       "\n",
       "    .dataframe thead th {\n",
       "        text-align: right;\n",
       "    }\n",
       "</style>\n",
       "<table border=\"1\" class=\"dataframe\">\n",
       "  <thead>\n",
       "    <tr style=\"text-align: right;\">\n",
       "      <th></th>\n",
       "      <th>age_upon_outcome</th>\n",
       "      <th>animal_id_outcome</th>\n",
       "      <th>date_of_birth</th>\n",
       "      <th>outcome_subtype</th>\n",
       "      <th>outcome_type</th>\n",
       "      <th>sex_upon_outcome</th>\n",
       "      <th>age_upon_outcome_(days)</th>\n",
       "      <th>age_upon_outcome_(years)</th>\n",
       "      <th>age_upon_outcome_age_group</th>\n",
       "      <th>outcome_datetime</th>\n",
       "      <th>...</th>\n",
       "      <th>age_upon_intake_age_group</th>\n",
       "      <th>intake_datetime</th>\n",
       "      <th>intake_month</th>\n",
       "      <th>intake_year</th>\n",
       "      <th>intake_monthyear</th>\n",
       "      <th>intake_weekday</th>\n",
       "      <th>intake_hour</th>\n",
       "      <th>intake_number</th>\n",
       "      <th>time_in_shelter</th>\n",
       "      <th>time_in_shelter_days</th>\n",
       "    </tr>\n",
       "  </thead>\n",
       "  <tbody>\n",
       "    <tr>\n",
       "      <th>0</th>\n",
       "      <td>10 years</td>\n",
       "      <td>A006100</td>\n",
       "      <td>2007-07-09 00:00:00</td>\n",
       "      <td>NaN</td>\n",
       "      <td>Return to Owner</td>\n",
       "      <td>Neutered Male</td>\n",
       "      <td>3650</td>\n",
       "      <td>10.0</td>\n",
       "      <td>(7.5, 10.0]</td>\n",
       "      <td>2017-12-07 14:07:00</td>\n",
       "      <td>...</td>\n",
       "      <td>(7.5, 10.0]</td>\n",
       "      <td>2017-12-07 00:00:00</td>\n",
       "      <td>12</td>\n",
       "      <td>2017</td>\n",
       "      <td>2017-12</td>\n",
       "      <td>Thursday</td>\n",
       "      <td>14</td>\n",
       "      <td>1.0</td>\n",
       "      <td>0 days 14:07:00.000000000</td>\n",
       "      <td>0.588194</td>\n",
       "    </tr>\n",
       "    <tr>\n",
       "      <th>1</th>\n",
       "      <td>7 years</td>\n",
       "      <td>A006100</td>\n",
       "      <td>2007-07-09 00:00:00</td>\n",
       "      <td>NaN</td>\n",
       "      <td>Return to Owner</td>\n",
       "      <td>Neutered Male</td>\n",
       "      <td>2555</td>\n",
       "      <td>7.0</td>\n",
       "      <td>(5.0, 7.5]</td>\n",
       "      <td>2014-12-20 16:35:00</td>\n",
       "      <td>...</td>\n",
       "      <td>(5.0, 7.5]</td>\n",
       "      <td>2014-12-19 10:21:00</td>\n",
       "      <td>12</td>\n",
       "      <td>2014</td>\n",
       "      <td>2014-12</td>\n",
       "      <td>Friday</td>\n",
       "      <td>10</td>\n",
       "      <td>2.0</td>\n",
       "      <td>1 days 06:14:00.000000000</td>\n",
       "      <td>1.259722</td>\n",
       "    </tr>\n",
       "    <tr>\n",
       "      <th>2</th>\n",
       "      <td>6 years</td>\n",
       "      <td>A006100</td>\n",
       "      <td>2007-07-09 00:00:00</td>\n",
       "      <td>NaN</td>\n",
       "      <td>Return to Owner</td>\n",
       "      <td>Neutered Male</td>\n",
       "      <td>2190</td>\n",
       "      <td>6.0</td>\n",
       "      <td>(5.0, 7.5]</td>\n",
       "      <td>2014-03-08 17:10:00</td>\n",
       "      <td>...</td>\n",
       "      <td>(5.0, 7.5]</td>\n",
       "      <td>2014-03-07 14:26:00</td>\n",
       "      <td>3</td>\n",
       "      <td>2014</td>\n",
       "      <td>2014-03</td>\n",
       "      <td>Friday</td>\n",
       "      <td>14</td>\n",
       "      <td>3.0</td>\n",
       "      <td>1 days 02:44:00.000000000</td>\n",
       "      <td>1.113889</td>\n",
       "    </tr>\n",
       "    <tr>\n",
       "      <th>3</th>\n",
       "      <td>10 years</td>\n",
       "      <td>A047759</td>\n",
       "      <td>2004-04-02 00:00:00</td>\n",
       "      <td>Partner</td>\n",
       "      <td>Transfer</td>\n",
       "      <td>Neutered Male</td>\n",
       "      <td>3650</td>\n",
       "      <td>10.0</td>\n",
       "      <td>(7.5, 10.0]</td>\n",
       "      <td>2014-04-07 15:12:00</td>\n",
       "      <td>...</td>\n",
       "      <td>(7.5, 10.0]</td>\n",
       "      <td>2014-04-02 15:55:00</td>\n",
       "      <td>4</td>\n",
       "      <td>2014</td>\n",
       "      <td>2014-04</td>\n",
       "      <td>Wednesday</td>\n",
       "      <td>15</td>\n",
       "      <td>1.0</td>\n",
       "      <td>4 days 23:17:00.000000000</td>\n",
       "      <td>4.970139</td>\n",
       "    </tr>\n",
       "    <tr>\n",
       "      <th>4</th>\n",
       "      <td>16 years</td>\n",
       "      <td>A134067</td>\n",
       "      <td>1997-10-16 00:00:00</td>\n",
       "      <td>NaN</td>\n",
       "      <td>Return to Owner</td>\n",
       "      <td>Neutered Male</td>\n",
       "      <td>5840</td>\n",
       "      <td>16.0</td>\n",
       "      <td>(15.0, 17.5]</td>\n",
       "      <td>2013-11-16 11:54:00</td>\n",
       "      <td>...</td>\n",
       "      <td>(15.0, 17.5]</td>\n",
       "      <td>2013-11-16 09:02:00</td>\n",
       "      <td>11</td>\n",
       "      <td>2013</td>\n",
       "      <td>2013-11</td>\n",
       "      <td>Saturday</td>\n",
       "      <td>9</td>\n",
       "      <td>1.0</td>\n",
       "      <td>0 days 02:52:00.000000000</td>\n",
       "      <td>0.119444</td>\n",
       "    </tr>\n",
       "  </tbody>\n",
       "</table>\n",
       "<p>5 rows × 41 columns</p>\n",
       "</div>"
      ],
      "text/plain": [
       "  age_upon_outcome animal_id_outcome        date_of_birth outcome_subtype  \\\n",
       "0         10 years           A006100  2007-07-09 00:00:00             NaN   \n",
       "1          7 years           A006100  2007-07-09 00:00:00             NaN   \n",
       "2          6 years           A006100  2007-07-09 00:00:00             NaN   \n",
       "3         10 years           A047759  2004-04-02 00:00:00         Partner   \n",
       "4         16 years           A134067  1997-10-16 00:00:00             NaN   \n",
       "\n",
       "      outcome_type sex_upon_outcome  age_upon_outcome_(days)  \\\n",
       "0  Return to Owner    Neutered Male                     3650   \n",
       "1  Return to Owner    Neutered Male                     2555   \n",
       "2  Return to Owner    Neutered Male                     2190   \n",
       "3         Transfer    Neutered Male                     3650   \n",
       "4  Return to Owner    Neutered Male                     5840   \n",
       "\n",
       "   age_upon_outcome_(years) age_upon_outcome_age_group     outcome_datetime  \\\n",
       "0                      10.0                (7.5, 10.0]  2017-12-07 14:07:00   \n",
       "1                       7.0                 (5.0, 7.5]  2014-12-20 16:35:00   \n",
       "2                       6.0                 (5.0, 7.5]  2014-03-08 17:10:00   \n",
       "3                      10.0                (7.5, 10.0]  2014-04-07 15:12:00   \n",
       "4                      16.0               (15.0, 17.5]  2013-11-16 11:54:00   \n",
       "\n",
       "   ...  age_upon_intake_age_group      intake_datetime intake_month  \\\n",
       "0  ...                (7.5, 10.0]  2017-12-07 00:00:00           12   \n",
       "1  ...                 (5.0, 7.5]  2014-12-19 10:21:00           12   \n",
       "2  ...                 (5.0, 7.5]  2014-03-07 14:26:00            3   \n",
       "3  ...                (7.5, 10.0]  2014-04-02 15:55:00            4   \n",
       "4  ...               (15.0, 17.5]  2013-11-16 09:02:00           11   \n",
       "\n",
       "  intake_year  intake_monthyear  intake_weekday  intake_hour  intake_number  \\\n",
       "0        2017           2017-12        Thursday           14            1.0   \n",
       "1        2014           2014-12          Friday           10            2.0   \n",
       "2        2014           2014-03          Friday           14            3.0   \n",
       "3        2014           2014-04       Wednesday           15            1.0   \n",
       "4        2013           2013-11        Saturday            9            1.0   \n",
       "\n",
       "             time_in_shelter time_in_shelter_days  \n",
       "0  0 days 14:07:00.000000000             0.588194  \n",
       "1  1 days 06:14:00.000000000             1.259722  \n",
       "2  1 days 02:44:00.000000000             1.113889  \n",
       "3  4 days 23:17:00.000000000             4.970139  \n",
       "4  0 days 02:52:00.000000000             0.119444  \n",
       "\n",
       "[5 rows x 41 columns]"
      ]
     },
     "execution_count": 45,
     "metadata": {},
     "output_type": "execute_result"
    }
   ],
   "source": [
    "combined.head(5)"
   ]
  },
  {
   "cell_type": "markdown",
   "id": "2ded23d9-d815-4e56-8443-10d8527d41bd",
   "metadata": {},
   "source": [
    "## Is there an area where more pets are found?\n",
    "I wanted to group the locations of where animals were found and get the total of how many animals were found at each location. Setting ascending to false it will return the location with the highest count first and go down from there. To only print the top 5 I used .head to grab the top 5 locations."
   ]
  },
  {
   "cell_type": "code",
   "execution_count": 35,
   "id": "c789ecc1-0272-4531-abd8-12a386c10d83",
   "metadata": {
    "tags": []
   },
   "outputs": [
    {
     "name": "stdout",
     "output_type": "stream",
     "text": [
      "                          found_location  count\n",
      "25970                        Austin (TX)  14443\n",
      "32692               Outside Jurisdiction    948\n",
      "35512                        Travis (TX)    921\n",
      "21133  7201 Levander Loop in Austin (TX)    517\n",
      "27901                     Del Valle (TX)    411\n"
     ]
    }
   ],
   "source": [
    "group_by_location = intakes.groupby('found_location').size().reset_index(name='count')\n",
    "sorted_by_count = group_by_location.sort_values(by='count', ascending=False)\n",
    "top_5_places = sorted_by_count.head(5)\n",
    "print(top_5_places)"
   ]
  },
  {
   "cell_type": "markdown",
   "id": "8a735c2e-3765-4159-92c5-c68782b66e9d",
   "metadata": {},
   "source": [
    "## What is the average number of pets found in a month in the year 2015? Are there months where there is a higher number of animals found?\n",
    "I knew I had to use the combined table to get this data as it's the only table with all the information I needed. Setting the intake year to 2015 allows only the data from that year to be pulled. To group all the months together I used .groupby and .size to count the number of animals found each month. The reset_index allows me to name the count column as 'count' so I can then get the mean/average per month.\n",
    "For calculating the data to find months where animals were found that had a higher number, I looped through all the months and set it to unique since months of when animals were found repeated. Then I got a total count for each month using sum(). I set the max which is related to the number of animals and top_month related to month and had those printed out. And as a summary I had the max animals and top_month printed out again to show most in each variable."
   ]
  },
  {
   "cell_type": "code",
   "execution_count": 37,
   "id": "cf620aa0-fe25-49e2-b4fe-e35fa3c02341",
   "metadata": {
    "tags": []
   },
   "outputs": [
    {
     "name": "stdout",
     "output_type": "stream",
     "text": [
      "Average number of pets found per month in the year 2015: 1558.25\n"
     ]
    }
   ],
   "source": [
    "intakes_2015 = combined[combined['intake_year'] == 2015]\n",
    "group_by_month = intakes_2015.groupby('intake_month').size().reset_index(name='count')\n",
    "ave_pets_per_month = group_by_month['count'].mean()\n",
    "print(\"Average number of pets found per month in the year 2015:\", ave_pets_per_month)"
   ]
  },
  {
   "cell_type": "code",
   "execution_count": 106,
   "id": "dfa60b36-92ed-43f6-a2cd-94212b674f48",
   "metadata": {
    "tags": []
   },
   "outputs": [
    {
     "name": "stdout",
     "output_type": "stream",
     "text": [
      "Number of pets: 6099\n",
      "Month: 12\n",
      "Number of pets: 6613\n",
      "Month: 3\n",
      "Number of pets: 7652\n",
      "Month: 10\n",
      "Number of pets: 7966\n",
      "Month: 5\n",
      "Number of pets: 7966\n",
      "Month: 5\n"
     ]
    }
   ],
   "source": [
    "max = 0\n",
    "top_month = None\n",
    "all_months = combined['intake_month'].unique()\n",
    "for month in all_months:\n",
    "    total_count = combined.loc[combined['intake_month'] == month, 'count'].sum()\n",
    "    if total_count > max:\n",
    "        max = total_count\n",
    "        top_month = month\n",
    "        print(\"Number of pets:\", max)\n",
    "        print(\"Month:\", month)\n",
    "print(\"Number of pets:\", max)\n",
    "print(\"Month:\", top_month)"
   ]
  },
  {
   "cell_type": "markdown",
   "id": "dfca62ad-40dd-4d47-b03d-82ac9ebe2fee",
   "metadata": {},
   "source": [
    "## What is the ratio of incoming pets vs. adopted pets?\n",
    "I pulled data from the inakes table and outcomes table to be able to divide the two and get a ratio of incoming pets and outgoing pets."
   ]
  },
  {
   "cell_type": "code",
   "execution_count": 88,
   "id": "791d782b-75d0-482f-ab48-87b84716cc17",
   "metadata": {
    "tags": []
   },
   "outputs": [
    {
     "name": "stdout",
     "output_type": "stream",
     "text": [
      "Ratio of incoming pets vs. adopted pets: 2.3424573498480954\n"
     ]
    }
   ],
   "source": [
    "total_incoming_pets = len(intakes)\n",
    "total_adopted_pets = len(outcomes[outcomes['outcome_type'] == 'Adoption'])\n",
    "ratio_of_pets = total_incoming_pets / total_adopted_pets\n",
    "print(\"Ratio of incoming pets vs. adopted pets:\", ratio_of_pets)                                  "
   ]
  },
  {
   "cell_type": "markdown",
   "id": "7f209d2a-62c8-4c3f-a6de-2bbcf40c44ea",
   "metadata": {},
   "source": [
    "## What is the distribution of the types of animals in the shelter?\n",
    "I used the len function to figure out how many of each animal in the intakes table there were."
   ]
  },
  {
   "cell_type": "code",
   "execution_count": 54,
   "id": "0d05977f-f69f-495e-a049-c880a582dbf9",
   "metadata": {
    "tags": []
   },
   "outputs": [
    {
     "name": "stdout",
     "output_type": "stream",
     "text": [
      "Number of dogs: 45743\n",
      "Number of cats: 29659\n",
      "Number of other animals: 4434\n"
     ]
    }
   ],
   "source": [
    "dog = len(intakes[intakes['animal_type'] == 'Dog'])\n",
    "cat = len(intakes[intakes['animal_type'] == 'Cat'])\n",
    "other = len(intakes[intakes['animal_type'] == 'Other'])\n",
    "print(\"Number of dogs:\", dog)\n",
    "print(\"Number of cats:\", cat)\n",
    "print(\"Number of other animals:\", other)"
   ]
  },
  {
   "cell_type": "markdown",
   "id": "6cc950ca-9dbc-41e8-9ab8-1cc0bc692551",
   "metadata": {},
   "source": [
    "## What are the adoption rates for specific breeds?\n",
    "First I needed to create a variable for dogs to be able to specify the top 5 breeds of dogs. I then group and sorted them showing the most to the least, I also did the same with the adoption from the outcomes table. After that I could calculate the percentage of the top 5 breeds from the intakes table and adoption from the outcomes table by merging the two tables on the breed column from the left dataframe that match the right dataframe. com_df stands for combined dataframe so the breeds from the top 5 breeds dataframe will match the breeds from group_by_adoptions dataframe. This then allowed me to divide the counts to get the percentage."
   ]
  },
  {
   "cell_type": "code",
   "execution_count": 92,
   "id": "c07f7ccc-f90d-4327-a128-e7c5d4572cfe",
   "metadata": {
    "tags": []
   },
   "outputs": [
    {
     "name": "stdout",
     "output_type": "stream",
     "text": [
      "                          breed  count\n",
      "1463               Pit Bull Mix   6382\n",
      "628     Chihuahua Shorthair Mix   4860\n",
      "1159     Labrador Retriever Mix   4841\n",
      "950         German Shepherd Mix   1963\n",
      "99    Australian Cattle Dog Mix   1105\n",
      "                       breed  count  adoption_count  adoption_percentage\n",
      "0               Pit Bull Mix   6382            2382            37.323723\n",
      "1    Chihuahua Shorthair Mix   4860            2293            47.181070\n",
      "2     Labrador Retriever Mix   4841            2404            49.659161\n",
      "3        German Shepherd Mix   1963             937            47.733062\n",
      "4  Australian Cattle Dog Mix   1105             619            56.018100\n"
     ]
    }
   ],
   "source": [
    "intake_dogs = intakes[intakes['animal_type'] == 'Dog']\n",
    "group_by_dogs = intake_dogs.groupby('breed').size().reset_index(name='count')\n",
    "sort_by_count = group_by_dogs.sort_values(by='count', ascending=False)\n",
    "top_5_breeds = sort_by_count.head(5)\n",
    "adoptions = outcomes[outcomes['outcome_type'] == 'Adoption']\n",
    "group_by_adoptions = adoptions.groupby('breed').size().reset_index(name='adoption_count')\n",
    "com_df = pd.merge(top_5_breeds, group_by_adoptions, on='breed', how='left')\n",
    "com_df['adoption_percentage'] = (com_df['adoption_count'] / com_df['count']) * 100\n",
    "print(top_5_breeds)\n",
    "print(com_df)"
   ]
  },
  {
   "cell_type": "markdown",
   "id": "20da4373-5316-461c-9f44-e48a41f49779",
   "metadata": {},
   "source": [
    "## What are the adoption rates for different colorings?\n",
    "This question was the same concept as above but did not need to be so specific since it was just asking for all the colorings of all aniamls."
   ]
  },
  {
   "cell_type": "code",
   "execution_count": 91,
   "id": "6ddae043-2e56-4edf-a834-e7f94b75bc95",
   "metadata": {
    "tags": []
   },
   "outputs": [
    {
     "name": "stdout",
     "output_type": "stream",
     "text": [
      "           color  count\n",
      "59   Black/White   8340\n",
      "8          Black   6710\n",
      "143  Brown Tabby   4487\n",
      "123        Brown   3618\n",
      "466        White   2849\n",
      "         color  count  adoption_count  adoption_percentage\n",
      "0  Black/White   8340            3814            45.731415\n",
      "1        Black   6710            2757            41.087928\n",
      "2  Brown Tabby   4487            1914            42.656563\n",
      "3        Brown   3618             803            22.194583\n",
      "4        White   2849            1082            37.978238\n"
     ]
    }
   ],
   "source": [
    "group_by_color = intakes.groupby('color').size().reset_index(name='count')\n",
    "sort_by_count = group_by_color.sort_values(by='count', ascending=False)\n",
    "top_5_colors = sort_by_count.head(5)\n",
    "adoptions = outcomes[outcomes['outcome_type'] == 'Adoption']\n",
    "group_by_adoptions = adoptions.groupby('color').size().reset_index(name='adoption_count')\n",
    "com_df = pd.merge(top_5_colors, group_by_adoptions, on='color', how='left')\n",
    "com_df['adoption_percentage'] = (com_df['adoption_count'] / com_df['count']) * 100\n",
    "print(top_5_colors)\n",
    "print(com_df)"
   ]
  },
  {
   "cell_type": "markdown",
   "id": "9f3cc1f5-b2ce-429a-94fb-b585b5641e85",
   "metadata": {},
   "source": [
    "## About how many animals are spayed/neutered each month?\n",
    "The combined table had the data of spayed/neutured aniamls along with the intake_month to be able to group neutured and spayed animals by month and allow for each month to print out with the number of animals that were either neutered or spayed."
   ]
  },
  {
   "cell_type": "code",
   "execution_count": 109,
   "id": "27070571-7bf1-4213-857c-206a1b5dba26",
   "metadata": {
    "tags": []
   },
   "outputs": [
    {
     "name": "stdout",
     "output_type": "stream",
     "text": [
      "Month: Neutered: intake_month\n",
      "1     2449\n",
      "2     2142\n",
      "3     2362\n",
      "4     2131\n",
      "5     2684\n",
      "6     2421\n",
      "7     2241\n",
      "8     2143\n",
      "9     2216\n",
      "10    2698\n",
      "11    2395\n",
      "12    2411\n",
      "dtype: int64\n",
      "Month: Spayed: intake_month\n",
      "1     2113\n",
      "2     2066\n",
      "3     1976\n",
      "4     1951\n",
      "5     2521\n",
      "6     2287\n",
      "7     1927\n",
      "8     1922\n",
      "9     1993\n",
      "10    2377\n",
      "11    2292\n",
      "12    2124\n",
      "dtype: int64\n"
     ]
    }
   ],
   "source": [
    "neutered = combined[combined['sex_upon_outcome'] == 'Neutered Male']\n",
    "group_by_month = neutered.groupby('intake_month')\n",
    "neutered_per_month = group_by_month.size()\n",
    "spayed = combined[combined['sex_upon_outcome'] == 'Spayed Female']\n",
    "group_by_month = spayed.groupby('intake_month')\n",
    "spayed_per_month = group_by_month.size()\n",
    "print(\"Month: Neutered:\", neutered_per_month)\n",
    "print(\"Month: Spayed:\", spayed_per_month)"
   ]
  },
  {
   "cell_type": "markdown",
   "id": "a1fa2b2e-49c0-4a8e-869b-a8a3576417cc",
   "metadata": {},
   "source": [
    "## How many animals in the shelter are repeats? Which animal was returned to the shelter the most?\n",
    "I used the combined table and the animals ID to find all the aniamls that are repeats in shelter and added them up if the animal counts were greater than 1. Then idmax was used to find the index or row label associated with the maximum value in the series. The number of repeats and the animal's ID that occured the most was printed out."
   ]
  },
  {
   "cell_type": "code",
   "execution_count": 127,
   "id": "6e155d88-c7fa-46bc-b2d1-e611bef964d3",
   "metadata": {
    "tags": []
   },
   "outputs": [
    {
     "name": "stdout",
     "output_type": "stream",
     "text": [
      "Number of aninmals in the shelter that are repeats: 6071\n",
      "The animal that has been returned to the shelter the most: A721033\n"
     ]
    }
   ],
   "source": [
    "animal_counts = combined.groupby('animal_id_outcome').size()\n",
    "repeats = sum(animal_counts > 1)\n",
    "most_returned = animal_counts.idxmax()\n",
    "print(\"Number of aninmals in the shelter that are repeats:\", repeats)\n",
    "print(\"The animal that has been returned to the shelter the most:\", most_returned)"
   ]
  },
  {
   "cell_type": "markdown",
   "id": "5a03bb8c-747c-4cd4-b85f-f15454d6be87",
   "metadata": {},
   "source": [
    "## What are the adoption rates for the following age groups?\n",
    "Baby: 4 months and less\n",
    "Young: 5 months - 2 years\n",
    "Adult: 3 years - 10 years\n",
    "Senior: 11+\n",
    "In this code I had to convert the age of animals into weeks since there were ages in different measurements such as weeks, months, and years. The map method is used to transform the age values into new values that are measured in weeks. From there I was able to go through the ages of animals and put them into categories based on the number of weeks and assign them to categories of baby, young, adult, and senior. Once the animals were in their correct age groups I can then go through the adoption column and only pull the animals that were adopted and get a count for each age group. I used shape[0] to allow the rows of age categories along with adoption rates to be printed out into 2 columns. Then the age at adoption was divided by the total adoptions multiplied by 100 to get a percentage. The percentage rate was printed out highest to lowest."
   ]
  },
  {
   "cell_type": "code",
   "execution_count": 154,
   "id": "a01ee6e8-e9fa-4adc-9532-22d660a5f229",
   "metadata": {
    "tags": []
   },
   "outputs": [
    {
     "name": "stdout",
     "output_type": "stream",
     "text": [
      "young     43.164291\n",
      "baby      37.435733\n",
      "adult     18.041599\n",
      "senior     1.358378\n",
      "Name: age_group, dtype: float64\n"
     ]
    }
   ],
   "source": [
    "def age_in_weeks(age_str):\n",
    "    try:\n",
    "        age_value, age_unit = age_str.split()\n",
    "        age_value = int(age_value)\n",
    "        if age_unit == 'week' or age_unit == 'weeks':\n",
    "            return age_value\n",
    "        elif age_unit == 'month' or age_unit == 'months':\n",
    "            return age_value * 4\n",
    "        elif age_unit == 'year' or age_unit == 'years':\n",
    "            return age_value * 52\n",
    "    except ValueError:\n",
    "            return None\n",
    "outcomes['age_weeks'] = outcomes['age_upon_outcome'].map(age_in_weeks)\n",
    "def age_category(age_weeks):\n",
    "    if age_weeks is not None:\n",
    "        if age_weeks <= 16:\n",
    "            return 'baby'\n",
    "        elif 17 <= age_weeks <= 104:\n",
    "            return 'young'\n",
    "        elif 105 <= age_weeks <= 520:\n",
    "            return 'adult'\n",
    "        else:\n",
    "            return 'senior'\n",
    "outcomes['age_group'] = outcomes['age_weeks'].apply(age_category)\n",
    "adoptions = outcomes[outcomes['outcome_type'] == 'Adoption']\n",
    "age_at_adoption = adoptions['age_group'].value_counts()\n",
    "total_adoptions = adoptions.shape[0]\n",
    "adoption_rates = (age_at_adoption / total_adoptions) * 100\n",
    "print(adoption_rates)"
   ]
  },
  {
   "cell_type": "markdown",
   "id": "b60e065b-7af9-41e3-859a-b1068e845e4a",
   "metadata": {
    "tags": []
   },
   "source": [
    "## If spay/neuter of a dog costs $100 and 50 for a spay/neuter of a cat, how much did the shelter spend in 2015 on these procedures?\n",
    "Here I made a copy of the dataframe since this information was not in the orginal dataframe and I didn't want to make any changes to the original. Datetime was used to get a specific time such as the year 2015. Animal type was used to filter out just dogs or (|) cats that were spayed or neutered. Then I set the cost to 100 for dogs and 50 for cats and muliplied the count for each spayed/neutered dog and for each spayed/neutered cat. I then subtracted the animals that were not spayed/neutered in the shelter during the year 2015. The animals that were spayed/neutered = spayed_neutered_count and the animals that were not spayed/neutered = outcomes_2015.shape[0]. Shape[0] represents the number of rows in the DataFrame 'outcomes_2015. The print line of the code prints out the total cost for the year 2015. For the message to be printed out correctly the numerica value of total_cost_2015 needs to converted to a string and the + sign combines the print statement which is also a string. The combing of two strings using"
   ]
  },
  {
   "cell_type": "code",
   "execution_count": null,
   "id": "801cd588-291d-4a58-9905-385cee5e8bb7",
   "metadata": {},
   "outputs": [],
   "source": []
  },
  {
   "cell_type": "code",
   "execution_count": 147,
   "id": "b56defbd-f556-4a69-bb4f-8660d8c967ea",
   "metadata": {
    "tags": []
   },
   "outputs": [
    {
     "name": "stdout",
     "output_type": "stream",
     "text": [
      "Total cost spent on spaying and neutering in 2015: $1500900\n"
     ]
    }
   ],
   "source": [
    "dogs_and_cats = outcomes[(outcomes['animal_type'] == 'Dog') | (outcomes['animal_type'] == 'Cat')]\n",
    "dogs_and_cats = dogs_and_cats.copy()\n",
    "dogs_and_cats['datetime'] = pd.to_datetime(dogs_and_cats['datetime'])\n",
    "dogs_and_cats['year'] = dogs_and_cats['datetime'].dt.year\n",
    "outcomes_2015 =  dogs_and_cats[dogs_and_cats['year'] == 2015]\n",
    "spayed_neutered_count = outcomes_2015[(outcomes_2015['sex_upon_outcome'] == 'Spayed Female') |\n",
    "                                     (outcomes_2015['sex_upon_outcome'] == 'Neutered Male')].shape[0]\n",
    "cost_per_dog = 100\n",
    "cost_per_cat = 50\n",
    "total_cost_2015 = spayed_neutered_count * cost_per_dog + (outcomes_2015.shape[0] - spayed_neutered_count) * cost_per_cat\n",
    "print(\"Total cost spent on spaying and neutering in 2015: $\" + str(total_cost_2015))"
   ]
  },
  {
   "cell_type": "code",
   "execution_count": null,
   "id": "aad36852-c76d-43a3-b316-880e65e52834",
   "metadata": {},
   "outputs": [],
   "source": []
  },
  {
   "cell_type": "code",
   "execution_count": null,
   "id": "ba9f8f58-31a4-412a-ac49-43bb119042f5",
   "metadata": {},
   "outputs": [],
   "source": []
  }
 ],
 "metadata": {
  "kernelspec": {
   "display_name": "Python 3 (ipykernel)",
   "language": "python",
   "name": "python3"
  },
  "language_info": {
   "codemirror_mode": {
    "name": "ipython",
    "version": 3
   },
   "file_extension": ".py",
   "mimetype": "text/x-python",
   "name": "python",
   "nbconvert_exporter": "python",
   "pygments_lexer": "ipython3",
   "version": "3.11.3"
  }
 },
 "nbformat": 4,
 "nbformat_minor": 5
}
